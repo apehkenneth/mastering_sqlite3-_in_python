{
  "nbformat": 4,
  "nbformat_minor": 0,
  "metadata": {
    "colab": {
      "provenance": []
    },
    "kernelspec": {
      "name": "python3",
      "display_name": "Python 3"
    },
    "language_info": {
      "name": "python"
    }
  },
  "cells": [
    {
      "cell_type": "markdown",
      "source": [
        "#**#Mastering SQLite3 in Python: Creating Connections and Listing Tables Jupyter Notebook**"
      ],
      "metadata": {
        "id": "JWvZrnM-L0dC"
      }
    },
    {
      "cell_type": "code",
      "execution_count": 2,
      "metadata": {
        "id": "NLJOXSk9E7wR"
      },
      "outputs": [],
      "source": [
        "#Import the necessary libraries\n",
        "\n",
        "import pandas as pd\n",
        "import sqlite3 as sql3"
      ]
    },
    {
      "cell_type": "markdown",
      "source": [
        "#1. Creating Connection"
      ],
      "metadata": {
        "id": "A44Ki0cwX-Sq"
      }
    },
    {
      "cell_type": "code",
      "source": [
        "#Creating a connection object using **connect()** method,\n",
        "database = \"/content/drive/MyDrive/sqlite_dbs /thr-gendered-babynames.sqlite\"\n",
        "connection = sql3.connect(database)"
      ],
      "metadata": {
        "id": "i3Py2_zLFJaR"
      },
      "execution_count": 3,
      "outputs": []
    },
    {
      "cell_type": "markdown",
      "source": [
        "#2. SQlite Table Listing"
      ],
      "metadata": {
        "id": "cppDE9TzXxy9"
      }
    },
    {
      "cell_type": "code",
      "source": [
        "# Created one SQLite query with which we will search a list\n",
        "# of all tables which are present inside the sqlite3 database.\n",
        "sql_query = \"\"\"\n",
        "            SELECT name\n",
        "            FROM sqlite_master\n",
        "            WHERE type='table';\n",
        "            \"\"\""
      ],
      "metadata": {
        "id": "eo5Uw44rIN4k"
      },
      "execution_count": 4,
      "outputs": []
    },
    {
      "cell_type": "code",
      "source": [
        "#3. Using Connection Object, we are creating a cursor object.\n",
        "cursor = connection.cursor()"
      ],
      "metadata": {
        "id": "o5Lt0rntJR5w"
      },
      "execution_count": 5,
      "outputs": []
    },
    {
      "cell_type": "code",
      "source": [
        "# 4. Using execute() methods, we will execute the above SQL query.\n",
        "cursor.execute(sql_query)"
      ],
      "metadata": {
        "colab": {
          "base_uri": "https://localhost:8080/"
        },
        "id": "JUaekg7_JRfS",
        "outputId": "1c2d9be5-0140-4798-f2ed-91a710cfc81b"
      },
      "execution_count": 16,
      "outputs": [
        {
          "output_type": "execute_result",
          "data": {
            "text/plain": [
              "<sqlite3.Cursor at 0x7f3a484e5c40>"
            ]
          },
          "metadata": {},
          "execution_count": 16
        }
      ]
    },
    {
      "cell_type": "code",
      "source": [
        "#5. Finally, We will print a list of all tables which are present inside the sqlite3 database.\n",
        "print('The list of tables are:\\n', cursor.fetchall())"
      ],
      "metadata": {
        "colab": {
          "base_uri": "https://localhost:8080/"
        },
        "id": "2sMNnrSqKkOl",
        "outputId": "c380e952-f579-4014-db34-94d0df96e3d2"
      },
      "execution_count": 17,
      "outputs": [
        {
          "output_type": "stream",
          "name": "stdout",
          "text": [
            "The list of tables are:\n",
            " [('gendered_names',), ('thr_power_list',)]\n"
          ]
        }
      ]
    },
    {
      "cell_type": "markdown",
      "source": [
        "# 3. Exploration of tables"
      ],
      "metadata": {
        "id": "J11C4X3NXZ7e"
      }
    },
    {
      "cell_type": "code",
      "source": [
        "# Exploring the \"gendered_names\" table\n",
        "\n",
        "g_names_query =  \"\"\"\n",
        "          SELECT *\n",
        "          FROM gendered_names\n",
        "          LIMIT 5;\n",
        "         \"\"\""
      ],
      "metadata": {
        "id": "NNRdKb0WGWwT"
      },
      "execution_count": 29,
      "outputs": []
    },
    {
      "cell_type": "code",
      "source": [
        "# Reading the query with pandas\n",
        "df_g_names = pd.read_sql_query(g_names_query, connection)\n",
        "df_g_names.head()"
      ],
      "metadata": {
        "colab": {
          "base_uri": "https://localhost:8080/",
          "height": 206
        },
        "id": "Rsu1_UFqHkS7",
        "outputId": "2d1b43dc-4738-4e1f-9cfd-1786993fb0d5"
      },
      "execution_count": 33,
      "outputs": [
        {
          "output_type": "execute_result",
          "data": {
            "text/plain": [
              "   year state     name  total_babies primary_sex  primary_sex_ratio  \\\n",
              "0  2015    US     Noah         19648           M               99.3   \n",
              "1  2015    US     Liam         18302           M               99.9   \n",
              "2  2015    US    Mason         16626           M               99.5   \n",
              "3  2015    US    Jacob         15838           M               99.9   \n",
              "4  2015    US  William         15824           M               99.9   \n",
              "\n",
              "   per_100k_in_state  \n",
              "0              535.6  \n",
              "1              498.9  \n",
              "2              453.2  \n",
              "3              431.8  \n",
              "4              431.4  "
            ],
            "text/html": [
              "\n",
              "  <div id=\"df-57999597-9962-4662-95d1-760b6a620db2\">\n",
              "    <div class=\"colab-df-container\">\n",
              "      <div>\n",
              "<style scoped>\n",
              "    .dataframe tbody tr th:only-of-type {\n",
              "        vertical-align: middle;\n",
              "    }\n",
              "\n",
              "    .dataframe tbody tr th {\n",
              "        vertical-align: top;\n",
              "    }\n",
              "\n",
              "    .dataframe thead th {\n",
              "        text-align: right;\n",
              "    }\n",
              "</style>\n",
              "<table border=\"1\" class=\"dataframe\">\n",
              "  <thead>\n",
              "    <tr style=\"text-align: right;\">\n",
              "      <th></th>\n",
              "      <th>year</th>\n",
              "      <th>state</th>\n",
              "      <th>name</th>\n",
              "      <th>total_babies</th>\n",
              "      <th>primary_sex</th>\n",
              "      <th>primary_sex_ratio</th>\n",
              "      <th>per_100k_in_state</th>\n",
              "    </tr>\n",
              "  </thead>\n",
              "  <tbody>\n",
              "    <tr>\n",
              "      <th>0</th>\n",
              "      <td>2015</td>\n",
              "      <td>US</td>\n",
              "      <td>Noah</td>\n",
              "      <td>19648</td>\n",
              "      <td>M</td>\n",
              "      <td>99.3</td>\n",
              "      <td>535.6</td>\n",
              "    </tr>\n",
              "    <tr>\n",
              "      <th>1</th>\n",
              "      <td>2015</td>\n",
              "      <td>US</td>\n",
              "      <td>Liam</td>\n",
              "      <td>18302</td>\n",
              "      <td>M</td>\n",
              "      <td>99.9</td>\n",
              "      <td>498.9</td>\n",
              "    </tr>\n",
              "    <tr>\n",
              "      <th>2</th>\n",
              "      <td>2015</td>\n",
              "      <td>US</td>\n",
              "      <td>Mason</td>\n",
              "      <td>16626</td>\n",
              "      <td>M</td>\n",
              "      <td>99.5</td>\n",
              "      <td>453.2</td>\n",
              "    </tr>\n",
              "    <tr>\n",
              "      <th>3</th>\n",
              "      <td>2015</td>\n",
              "      <td>US</td>\n",
              "      <td>Jacob</td>\n",
              "      <td>15838</td>\n",
              "      <td>M</td>\n",
              "      <td>99.9</td>\n",
              "      <td>431.8</td>\n",
              "    </tr>\n",
              "    <tr>\n",
              "      <th>4</th>\n",
              "      <td>2015</td>\n",
              "      <td>US</td>\n",
              "      <td>William</td>\n",
              "      <td>15824</td>\n",
              "      <td>M</td>\n",
              "      <td>99.9</td>\n",
              "      <td>431.4</td>\n",
              "    </tr>\n",
              "  </tbody>\n",
              "</table>\n",
              "</div>\n",
              "      <button class=\"colab-df-convert\" onclick=\"convertToInteractive('df-57999597-9962-4662-95d1-760b6a620db2')\"\n",
              "              title=\"Convert this dataframe to an interactive table.\"\n",
              "              style=\"display:none;\">\n",
              "        \n",
              "  <svg xmlns=\"http://www.w3.org/2000/svg\" height=\"24px\"viewBox=\"0 0 24 24\"\n",
              "       width=\"24px\">\n",
              "    <path d=\"M0 0h24v24H0V0z\" fill=\"none\"/>\n",
              "    <path d=\"M18.56 5.44l.94 2.06.94-2.06 2.06-.94-2.06-.94-.94-2.06-.94 2.06-2.06.94zm-11 1L8.5 8.5l.94-2.06 2.06-.94-2.06-.94L8.5 2.5l-.94 2.06-2.06.94zm10 10l.94 2.06.94-2.06 2.06-.94-2.06-.94-.94-2.06-.94 2.06-2.06.94z\"/><path d=\"M17.41 7.96l-1.37-1.37c-.4-.4-.92-.59-1.43-.59-.52 0-1.04.2-1.43.59L10.3 9.45l-7.72 7.72c-.78.78-.78 2.05 0 2.83L4 21.41c.39.39.9.59 1.41.59.51 0 1.02-.2 1.41-.59l7.78-7.78 2.81-2.81c.8-.78.8-2.07 0-2.86zM5.41 20L4 18.59l7.72-7.72 1.47 1.35L5.41 20z\"/>\n",
              "  </svg>\n",
              "      </button>\n",
              "      \n",
              "  <style>\n",
              "    .colab-df-container {\n",
              "      display:flex;\n",
              "      flex-wrap:wrap;\n",
              "      gap: 12px;\n",
              "    }\n",
              "\n",
              "    .colab-df-convert {\n",
              "      background-color: #E8F0FE;\n",
              "      border: none;\n",
              "      border-radius: 50%;\n",
              "      cursor: pointer;\n",
              "      display: none;\n",
              "      fill: #1967D2;\n",
              "      height: 32px;\n",
              "      padding: 0 0 0 0;\n",
              "      width: 32px;\n",
              "    }\n",
              "\n",
              "    .colab-df-convert:hover {\n",
              "      background-color: #E2EBFA;\n",
              "      box-shadow: 0px 1px 2px rgba(60, 64, 67, 0.3), 0px 1px 3px 1px rgba(60, 64, 67, 0.15);\n",
              "      fill: #174EA6;\n",
              "    }\n",
              "\n",
              "    [theme=dark] .colab-df-convert {\n",
              "      background-color: #3B4455;\n",
              "      fill: #D2E3FC;\n",
              "    }\n",
              "\n",
              "    [theme=dark] .colab-df-convert:hover {\n",
              "      background-color: #434B5C;\n",
              "      box-shadow: 0px 1px 3px 1px rgba(0, 0, 0, 0.15);\n",
              "      filter: drop-shadow(0px 1px 2px rgba(0, 0, 0, 0.3));\n",
              "      fill: #FFFFFF;\n",
              "    }\n",
              "  </style>\n",
              "\n",
              "      <script>\n",
              "        const buttonEl =\n",
              "          document.querySelector('#df-57999597-9962-4662-95d1-760b6a620db2 button.colab-df-convert');\n",
              "        buttonEl.style.display =\n",
              "          google.colab.kernel.accessAllowed ? 'block' : 'none';\n",
              "\n",
              "        async function convertToInteractive(key) {\n",
              "          const element = document.querySelector('#df-57999597-9962-4662-95d1-760b6a620db2');\n",
              "          const dataTable =\n",
              "            await google.colab.kernel.invokeFunction('convertToInteractive',\n",
              "                                                     [key], {});\n",
              "          if (!dataTable) return;\n",
              "\n",
              "          const docLinkHtml = 'Like what you see? Visit the ' +\n",
              "            '<a target=\"_blank\" href=https://colab.research.google.com/notebooks/data_table.ipynb>data table notebook</a>'\n",
              "            + ' to learn more about interactive tables.';\n",
              "          element.innerHTML = '';\n",
              "          dataTable['output_type'] = 'display_data';\n",
              "          await google.colab.output.renderOutput(dataTable, element);\n",
              "          const docLink = document.createElement('div');\n",
              "          docLink.innerHTML = docLinkHtml;\n",
              "          element.appendChild(docLink);\n",
              "        }\n",
              "      </script>\n",
              "    </div>\n",
              "  </div>\n",
              "  "
            ]
          },
          "metadata": {},
          "execution_count": 33
        }
      ]
    },
    {
      "cell_type": "code",
      "source": [
        "# Exploring the \"thr_power_list\" table\n",
        "tp_list_query =  \"\"\"\n",
        "          SELECT *\n",
        "          FROM thr_power_list\n",
        "          LIMIT 5;\n",
        "         \"\"\""
      ],
      "metadata": {
        "id": "we47UDjGIFv-"
      },
      "execution_count": 34,
      "outputs": []
    },
    {
      "cell_type": "code",
      "source": [
        "# Reading the query with pandas\n",
        "df_tp_list = pd.read_sql_query(tp_list_query, connection)\n",
        "df_tp_list.head()"
      ],
      "metadata": {
        "colab": {
          "base_uri": "https://localhost:8080/",
          "height": 206
        },
        "id": "Cs1Z1dklLhO5",
        "outputId": "3b7cb7e4-d6c5-4690-c7d4-d68f4e59645f"
      },
      "execution_count": 35,
      "outputs": [
        {
          "output_type": "execute_result",
          "data": {
            "text/plain": [
              "   rank           full_name  first_name last_name               occupation  \\\n",
              "0   100  Lin-Manuel Miranda  Lin-Manuel   Miranda            Actor/creator   \n",
              "1    99         Chris Pratt       Chris     Pratt                    Actor   \n",
              "2    98          Jason Blum       Jason      Blum              Founder/CEO   \n",
              "3    97   Robert Downey Jr.      Robert    Downey  Actor/director/producer   \n",
              "4    96         Neal Moritz        Neal    Moritz                 Producer   \n",
              "\n",
              "                 company  \n",
              "0               Hamilton  \n",
              "1                         \n",
              "2  Blumhouse Productions  \n",
              "3                         \n",
              "4                         "
            ],
            "text/html": [
              "\n",
              "  <div id=\"df-e8d8b25b-497c-4bc9-beeb-5ab30965652c\">\n",
              "    <div class=\"colab-df-container\">\n",
              "      <div>\n",
              "<style scoped>\n",
              "    .dataframe tbody tr th:only-of-type {\n",
              "        vertical-align: middle;\n",
              "    }\n",
              "\n",
              "    .dataframe tbody tr th {\n",
              "        vertical-align: top;\n",
              "    }\n",
              "\n",
              "    .dataframe thead th {\n",
              "        text-align: right;\n",
              "    }\n",
              "</style>\n",
              "<table border=\"1\" class=\"dataframe\">\n",
              "  <thead>\n",
              "    <tr style=\"text-align: right;\">\n",
              "      <th></th>\n",
              "      <th>rank</th>\n",
              "      <th>full_name</th>\n",
              "      <th>first_name</th>\n",
              "      <th>last_name</th>\n",
              "      <th>occupation</th>\n",
              "      <th>company</th>\n",
              "    </tr>\n",
              "  </thead>\n",
              "  <tbody>\n",
              "    <tr>\n",
              "      <th>0</th>\n",
              "      <td>100</td>\n",
              "      <td>Lin-Manuel Miranda</td>\n",
              "      <td>Lin-Manuel</td>\n",
              "      <td>Miranda</td>\n",
              "      <td>Actor/creator</td>\n",
              "      <td>Hamilton</td>\n",
              "    </tr>\n",
              "    <tr>\n",
              "      <th>1</th>\n",
              "      <td>99</td>\n",
              "      <td>Chris Pratt</td>\n",
              "      <td>Chris</td>\n",
              "      <td>Pratt</td>\n",
              "      <td>Actor</td>\n",
              "      <td></td>\n",
              "    </tr>\n",
              "    <tr>\n",
              "      <th>2</th>\n",
              "      <td>98</td>\n",
              "      <td>Jason Blum</td>\n",
              "      <td>Jason</td>\n",
              "      <td>Blum</td>\n",
              "      <td>Founder/CEO</td>\n",
              "      <td>Blumhouse Productions</td>\n",
              "    </tr>\n",
              "    <tr>\n",
              "      <th>3</th>\n",
              "      <td>97</td>\n",
              "      <td>Robert Downey Jr.</td>\n",
              "      <td>Robert</td>\n",
              "      <td>Downey</td>\n",
              "      <td>Actor/director/producer</td>\n",
              "      <td></td>\n",
              "    </tr>\n",
              "    <tr>\n",
              "      <th>4</th>\n",
              "      <td>96</td>\n",
              "      <td>Neal Moritz</td>\n",
              "      <td>Neal</td>\n",
              "      <td>Moritz</td>\n",
              "      <td>Producer</td>\n",
              "      <td></td>\n",
              "    </tr>\n",
              "  </tbody>\n",
              "</table>\n",
              "</div>\n",
              "      <button class=\"colab-df-convert\" onclick=\"convertToInteractive('df-e8d8b25b-497c-4bc9-beeb-5ab30965652c')\"\n",
              "              title=\"Convert this dataframe to an interactive table.\"\n",
              "              style=\"display:none;\">\n",
              "        \n",
              "  <svg xmlns=\"http://www.w3.org/2000/svg\" height=\"24px\"viewBox=\"0 0 24 24\"\n",
              "       width=\"24px\">\n",
              "    <path d=\"M0 0h24v24H0V0z\" fill=\"none\"/>\n",
              "    <path d=\"M18.56 5.44l.94 2.06.94-2.06 2.06-.94-2.06-.94-.94-2.06-.94 2.06-2.06.94zm-11 1L8.5 8.5l.94-2.06 2.06-.94-2.06-.94L8.5 2.5l-.94 2.06-2.06.94zm10 10l.94 2.06.94-2.06 2.06-.94-2.06-.94-.94-2.06-.94 2.06-2.06.94z\"/><path d=\"M17.41 7.96l-1.37-1.37c-.4-.4-.92-.59-1.43-.59-.52 0-1.04.2-1.43.59L10.3 9.45l-7.72 7.72c-.78.78-.78 2.05 0 2.83L4 21.41c.39.39.9.59 1.41.59.51 0 1.02-.2 1.41-.59l7.78-7.78 2.81-2.81c.8-.78.8-2.07 0-2.86zM5.41 20L4 18.59l7.72-7.72 1.47 1.35L5.41 20z\"/>\n",
              "  </svg>\n",
              "      </button>\n",
              "      \n",
              "  <style>\n",
              "    .colab-df-container {\n",
              "      display:flex;\n",
              "      flex-wrap:wrap;\n",
              "      gap: 12px;\n",
              "    }\n",
              "\n",
              "    .colab-df-convert {\n",
              "      background-color: #E8F0FE;\n",
              "      border: none;\n",
              "      border-radius: 50%;\n",
              "      cursor: pointer;\n",
              "      display: none;\n",
              "      fill: #1967D2;\n",
              "      height: 32px;\n",
              "      padding: 0 0 0 0;\n",
              "      width: 32px;\n",
              "    }\n",
              "\n",
              "    .colab-df-convert:hover {\n",
              "      background-color: #E2EBFA;\n",
              "      box-shadow: 0px 1px 2px rgba(60, 64, 67, 0.3), 0px 1px 3px 1px rgba(60, 64, 67, 0.15);\n",
              "      fill: #174EA6;\n",
              "    }\n",
              "\n",
              "    [theme=dark] .colab-df-convert {\n",
              "      background-color: #3B4455;\n",
              "      fill: #D2E3FC;\n",
              "    }\n",
              "\n",
              "    [theme=dark] .colab-df-convert:hover {\n",
              "      background-color: #434B5C;\n",
              "      box-shadow: 0px 1px 3px 1px rgba(0, 0, 0, 0.15);\n",
              "      filter: drop-shadow(0px 1px 2px rgba(0, 0, 0, 0.3));\n",
              "      fill: #FFFFFF;\n",
              "    }\n",
              "  </style>\n",
              "\n",
              "      <script>\n",
              "        const buttonEl =\n",
              "          document.querySelector('#df-e8d8b25b-497c-4bc9-beeb-5ab30965652c button.colab-df-convert');\n",
              "        buttonEl.style.display =\n",
              "          google.colab.kernel.accessAllowed ? 'block' : 'none';\n",
              "\n",
              "        async function convertToInteractive(key) {\n",
              "          const element = document.querySelector('#df-e8d8b25b-497c-4bc9-beeb-5ab30965652c');\n",
              "          const dataTable =\n",
              "            await google.colab.kernel.invokeFunction('convertToInteractive',\n",
              "                                                     [key], {});\n",
              "          if (!dataTable) return;\n",
              "\n",
              "          const docLinkHtml = 'Like what you see? Visit the ' +\n",
              "            '<a target=\"_blank\" href=https://colab.research.google.com/notebooks/data_table.ipynb>data table notebook</a>'\n",
              "            + ' to learn more about interactive tables.';\n",
              "          element.innerHTML = '';\n",
              "          dataTable['output_type'] = 'display_data';\n",
              "          await google.colab.output.renderOutput(dataTable, element);\n",
              "          const docLink = document.createElement('div');\n",
              "          docLink.innerHTML = docLinkHtml;\n",
              "          element.appendChild(docLink);\n",
              "        }\n",
              "      </script>\n",
              "    </div>\n",
              "  </div>\n",
              "  "
            ]
          },
          "metadata": {},
          "execution_count": 35
        }
      ]
    }
  ]
}